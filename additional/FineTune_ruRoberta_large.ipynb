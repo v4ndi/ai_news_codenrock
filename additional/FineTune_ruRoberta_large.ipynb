{
  "nbformat": 4,
  "nbformat_minor": 0,
  "metadata": {
    "colab": {
      "provenance": [],
      "gpuType": "T4"
    },
    "kernelspec": {
      "name": "python3",
      "display_name": "Python 3"
    },
    "language_info": {
      "name": "python"
    },
    "accelerator": "GPU"
  },
  "cells": [
    {
      "cell_type": "code",
      "execution_count": null,
      "metadata": {
        "colab": {
          "base_uri": "https://localhost:8080/"
        },
        "id": "HomNnpfNTLKr",
        "outputId": "dc9bfb7a-0d82-4b22-9171-ab5c3c2e942e"
      },
      "outputs": [
        {
          "output_type": "stream",
          "name": "stdout",
          "text": [
            "Drive already mounted at /content/drive; to attempt to forcibly remount, call drive.mount(\"/content/drive\", force_remount=True).\n"
          ]
        }
      ],
      "source": [
        "from google.colab import drive\n",
        "drive.mount('/content/drive')"
      ]
    },
    {
      "cell_type": "code",
      "source": [
        "!pip install transformers"
      ],
      "metadata": {
        "colab": {
          "base_uri": "https://localhost:8080/"
        },
        "id": "XEpvE1KGUFG3",
        "outputId": "c746fb67-eac5-4d2e-dc39-d6e5937a8164"
      },
      "execution_count": null,
      "outputs": [
        {
          "output_type": "stream",
          "name": "stdout",
          "text": [
            "Requirement already satisfied: transformers in /usr/local/lib/python3.10/dist-packages (4.33.2)\n",
            "Requirement already satisfied: filelock in /usr/local/lib/python3.10/dist-packages (from transformers) (3.12.2)\n",
            "Requirement already satisfied: huggingface-hub<1.0,>=0.15.1 in /usr/local/lib/python3.10/dist-packages (from transformers) (0.17.2)\n",
            "Requirement already satisfied: numpy>=1.17 in /usr/local/lib/python3.10/dist-packages (from transformers) (1.23.5)\n",
            "Requirement already satisfied: packaging>=20.0 in /usr/local/lib/python3.10/dist-packages (from transformers) (23.1)\n",
            "Requirement already satisfied: pyyaml>=5.1 in /usr/local/lib/python3.10/dist-packages (from transformers) (6.0.1)\n",
            "Requirement already satisfied: regex!=2019.12.17 in /usr/local/lib/python3.10/dist-packages (from transformers) (2023.6.3)\n",
            "Requirement already satisfied: requests in /usr/local/lib/python3.10/dist-packages (from transformers) (2.31.0)\n",
            "Requirement already satisfied: tokenizers!=0.11.3,<0.14,>=0.11.1 in /usr/local/lib/python3.10/dist-packages (from transformers) (0.13.3)\n",
            "Requirement already satisfied: safetensors>=0.3.1 in /usr/local/lib/python3.10/dist-packages (from transformers) (0.3.3)\n",
            "Requirement already satisfied: tqdm>=4.27 in /usr/local/lib/python3.10/dist-packages (from transformers) (4.66.1)\n",
            "Requirement already satisfied: fsspec in /usr/local/lib/python3.10/dist-packages (from huggingface-hub<1.0,>=0.15.1->transformers) (2023.6.0)\n",
            "Requirement already satisfied: typing-extensions>=3.7.4.3 in /usr/local/lib/python3.10/dist-packages (from huggingface-hub<1.0,>=0.15.1->transformers) (4.5.0)\n",
            "Requirement already satisfied: charset-normalizer<4,>=2 in /usr/local/lib/python3.10/dist-packages (from requests->transformers) (3.2.0)\n",
            "Requirement already satisfied: idna<4,>=2.5 in /usr/local/lib/python3.10/dist-packages (from requests->transformers) (3.4)\n",
            "Requirement already satisfied: urllib3<3,>=1.21.1 in /usr/local/lib/python3.10/dist-packages (from requests->transformers) (2.0.4)\n",
            "Requirement already satisfied: certifi>=2017.4.17 in /usr/local/lib/python3.10/dist-packages (from requests->transformers) (2023.7.22)\n"
          ]
        }
      ]
    },
    {
      "cell_type": "code",
      "source": [
        "import torch\n",
        "from torch.utils.data import Dataset, DataLoader\n",
        "from torch.nn.utils.rnn import pad_sequence\n",
        "import torch.nn as nn\n",
        "import torch.nn.functional as F\n",
        "from torch.optim import AdamW\n",
        "\n",
        "import pandas as pd\n",
        "import numpy as np\n",
        "import matplotlib.pyplot as plt\n",
        "import seaborn as sns\n",
        "\n",
        "import nltk\n",
        "import string\n",
        "from nltk.corpus import stopwords\n",
        "from collections import Counter\n",
        "from nltk.stem import WordNetLemmatizer\n",
        "import re\n",
        "\n",
        "from transformers import AutoModel, AutoTokenizer\n",
        "\n",
        "from sklearn.model_selection import train_test_split\n",
        "from sklearn.preprocessing import LabelEncoder\n",
        "import random\n",
        "import os\n",
        "\n",
        "from tqdm import tqdm"
      ],
      "metadata": {
        "id": "wuZ24ePWULxV"
      },
      "execution_count": null,
      "outputs": []
    },
    {
      "cell_type": "markdown",
      "source": [
        "## Pass random state"
      ],
      "metadata": {
        "id": "43CKelhX0bl7"
      }
    },
    {
      "cell_type": "code",
      "source": [
        "random_state = 101\n",
        "\n",
        "def seed_everything(seed: int,\n",
        "                    use_deterministic_algos: bool = False) -> None:\n",
        "\n",
        "    os.environ[\"PYTHONHASHSEED\"] = str(seed)\n",
        "    np.random.seed(seed)\n",
        "    torch.manual_seed(seed)\n",
        "    torch.cuda.manual_seed(seed)\n",
        "    torch.use_deterministic_algorithms(use_deterministic_algos)\n",
        "    random.seed(seed)\n",
        "\n",
        "\n",
        "seed_everything(random_state)"
      ],
      "metadata": {
        "id": "PG1j0shY0a-F"
      },
      "execution_count": null,
      "outputs": []
    },
    {
      "cell_type": "code",
      "source": [
        "class Args():\n",
        "    def __init__(self):\n",
        "        self.max_length = 128\n",
        "        self.lr = 1e-5\n",
        "        self.num_epochs = 1\n",
        "        self.device = torch.device('cuda' if torch.cuda.is_available() else 'cpu')\n",
        "        self.batch_size = 8\n",
        "        self.model_name = \"ai-forever/ruRoberta-large\"\n",
        "        self.random_state = 101\n",
        "\n",
        "args = Args()\n",
        "args.device"
      ],
      "metadata": {
        "colab": {
          "base_uri": "https://localhost:8080/"
        },
        "id": "qj3D5FeScqna",
        "outputId": "bd31644b-d99e-4ccc-b46c-5d720c48ea5e"
      },
      "execution_count": null,
      "outputs": [
        {
          "output_type": "execute_result",
          "data": {
            "text/plain": [
              "device(type='cuda')"
            ]
          },
          "metadata": {},
          "execution_count": 5
        }
      ]
    },
    {
      "cell_type": "markdown",
      "source": [
        "## Data"
      ],
      "metadata": {
        "id": "nXfQ3XorUb8a"
      }
    },
    {
      "cell_type": "code",
      "source": [
        "df = pd.read_csv('/content/dataset_for_train.csv')"
      ],
      "metadata": {
        "id": "Vy6jkf2fUQy7"
      },
      "execution_count": null,
      "outputs": []
    },
    {
      "cell_type": "code",
      "source": [
        "df.head()"
      ],
      "metadata": {
        "colab": {
          "base_uri": "https://localhost:8080/",
          "height": 206
        },
        "id": "Kqq9ZVgxc-xL",
        "outputId": "41019dde-a019-4ecc-da67-dd685d195bfe"
      },
      "execution_count": null,
      "outputs": [
        {
          "output_type": "execute_result",
          "data": {
            "text/plain": [
              "                                                text             label\n",
              "0  стартап болезнь 1 самом начале пути стартап не...  бизнес и стартап\n",
              "1  допустить глупых ошибок пресиде очень многое з...  бизнес и стартап\n",
              "2  хочу напомнить чат можете вакансию разместить ...  бизнес и стартап\n",
              "3  🦄доброе утро наши маленькие любители единорого...  бизнес и стартап\n",
              "4  компания выпускающая мёрч фанатов спортивных к...  бизнес и стартап"
            ],
            "text/html": [
              "\n",
              "  <div id=\"df-303282d6-2a45-45a2-a159-3556607fe7e4\" class=\"colab-df-container\">\n",
              "    <div>\n",
              "<style scoped>\n",
              "    .dataframe tbody tr th:only-of-type {\n",
              "        vertical-align: middle;\n",
              "    }\n",
              "\n",
              "    .dataframe tbody tr th {\n",
              "        vertical-align: top;\n",
              "    }\n",
              "\n",
              "    .dataframe thead th {\n",
              "        text-align: right;\n",
              "    }\n",
              "</style>\n",
              "<table border=\"1\" class=\"dataframe\">\n",
              "  <thead>\n",
              "    <tr style=\"text-align: right;\">\n",
              "      <th></th>\n",
              "      <th>text</th>\n",
              "      <th>label</th>\n",
              "    </tr>\n",
              "  </thead>\n",
              "  <tbody>\n",
              "    <tr>\n",
              "      <th>0</th>\n",
              "      <td>стартап болезнь 1 самом начале пути стартап не...</td>\n",
              "      <td>бизнес и стартап</td>\n",
              "    </tr>\n",
              "    <tr>\n",
              "      <th>1</th>\n",
              "      <td>допустить глупых ошибок пресиде очень многое з...</td>\n",
              "      <td>бизнес и стартап</td>\n",
              "    </tr>\n",
              "    <tr>\n",
              "      <th>2</th>\n",
              "      <td>хочу напомнить чат можете вакансию разместить ...</td>\n",
              "      <td>бизнес и стартап</td>\n",
              "    </tr>\n",
              "    <tr>\n",
              "      <th>3</th>\n",
              "      <td>🦄доброе утро наши маленькие любители единорого...</td>\n",
              "      <td>бизнес и стартап</td>\n",
              "    </tr>\n",
              "    <tr>\n",
              "      <th>4</th>\n",
              "      <td>компания выпускающая мёрч фанатов спортивных к...</td>\n",
              "      <td>бизнес и стартап</td>\n",
              "    </tr>\n",
              "  </tbody>\n",
              "</table>\n",
              "</div>\n",
              "    <div class=\"colab-df-buttons\">\n",
              "\n",
              "  <div class=\"colab-df-container\">\n",
              "    <button class=\"colab-df-convert\" onclick=\"convertToInteractive('df-303282d6-2a45-45a2-a159-3556607fe7e4')\"\n",
              "            title=\"Convert this dataframe to an interactive table.\"\n",
              "            style=\"display:none;\">\n",
              "\n",
              "  <svg xmlns=\"http://www.w3.org/2000/svg\" height=\"24px\" viewBox=\"0 -960 960 960\">\n",
              "    <path d=\"M120-120v-720h720v720H120Zm60-500h600v-160H180v160Zm220 220h160v-160H400v160Zm0 220h160v-160H400v160ZM180-400h160v-160H180v160Zm440 0h160v-160H620v160ZM180-180h160v-160H180v160Zm440 0h160v-160H620v160Z\"/>\n",
              "  </svg>\n",
              "    </button>\n",
              "\n",
              "  <style>\n",
              "    .colab-df-container {\n",
              "      display:flex;\n",
              "      gap: 12px;\n",
              "    }\n",
              "\n",
              "    .colab-df-convert {\n",
              "      background-color: #E8F0FE;\n",
              "      border: none;\n",
              "      border-radius: 50%;\n",
              "      cursor: pointer;\n",
              "      display: none;\n",
              "      fill: #1967D2;\n",
              "      height: 32px;\n",
              "      padding: 0 0 0 0;\n",
              "      width: 32px;\n",
              "    }\n",
              "\n",
              "    .colab-df-convert:hover {\n",
              "      background-color: #E2EBFA;\n",
              "      box-shadow: 0px 1px 2px rgba(60, 64, 67, 0.3), 0px 1px 3px 1px rgba(60, 64, 67, 0.15);\n",
              "      fill: #174EA6;\n",
              "    }\n",
              "\n",
              "    .colab-df-buttons div {\n",
              "      margin-bottom: 4px;\n",
              "    }\n",
              "\n",
              "    [theme=dark] .colab-df-convert {\n",
              "      background-color: #3B4455;\n",
              "      fill: #D2E3FC;\n",
              "    }\n",
              "\n",
              "    [theme=dark] .colab-df-convert:hover {\n",
              "      background-color: #434B5C;\n",
              "      box-shadow: 0px 1px 3px 1px rgba(0, 0, 0, 0.15);\n",
              "      filter: drop-shadow(0px 1px 2px rgba(0, 0, 0, 0.3));\n",
              "      fill: #FFFFFF;\n",
              "    }\n",
              "  </style>\n",
              "\n",
              "    <script>\n",
              "      const buttonEl =\n",
              "        document.querySelector('#df-303282d6-2a45-45a2-a159-3556607fe7e4 button.colab-df-convert');\n",
              "      buttonEl.style.display =\n",
              "        google.colab.kernel.accessAllowed ? 'block' : 'none';\n",
              "\n",
              "      async function convertToInteractive(key) {\n",
              "        const element = document.querySelector('#df-303282d6-2a45-45a2-a159-3556607fe7e4');\n",
              "        const dataTable =\n",
              "          await google.colab.kernel.invokeFunction('convertToInteractive',\n",
              "                                                    [key], {});\n",
              "        if (!dataTable) return;\n",
              "\n",
              "        const docLinkHtml = 'Like what you see? Visit the ' +\n",
              "          '<a target=\"_blank\" href=https://colab.research.google.com/notebooks/data_table.ipynb>data table notebook</a>'\n",
              "          + ' to learn more about interactive tables.';\n",
              "        element.innerHTML = '';\n",
              "        dataTable['output_type'] = 'display_data';\n",
              "        await google.colab.output.renderOutput(dataTable, element);\n",
              "        const docLink = document.createElement('div');\n",
              "        docLink.innerHTML = docLinkHtml;\n",
              "        element.appendChild(docLink);\n",
              "      }\n",
              "    </script>\n",
              "  </div>\n",
              "\n",
              "\n",
              "<div id=\"df-0bb705c3-0545-471b-bad7-22ca2650752e\">\n",
              "  <button class=\"colab-df-quickchart\" onclick=\"quickchart('df-0bb705c3-0545-471b-bad7-22ca2650752e')\"\n",
              "            title=\"Suggest charts.\"\n",
              "            style=\"display:none;\">\n",
              "\n",
              "<svg xmlns=\"http://www.w3.org/2000/svg\" height=\"24px\"viewBox=\"0 0 24 24\"\n",
              "     width=\"24px\">\n",
              "    <g>\n",
              "        <path d=\"M19 3H5c-1.1 0-2 .9-2 2v14c0 1.1.9 2 2 2h14c1.1 0 2-.9 2-2V5c0-1.1-.9-2-2-2zM9 17H7v-7h2v7zm4 0h-2V7h2v10zm4 0h-2v-4h2v4z\"/>\n",
              "    </g>\n",
              "</svg>\n",
              "  </button>\n",
              "\n",
              "<style>\n",
              "  .colab-df-quickchart {\n",
              "      --bg-color: #E8F0FE;\n",
              "      --fill-color: #1967D2;\n",
              "      --hover-bg-color: #E2EBFA;\n",
              "      --hover-fill-color: #174EA6;\n",
              "      --disabled-fill-color: #AAA;\n",
              "      --disabled-bg-color: #DDD;\n",
              "  }\n",
              "\n",
              "  [theme=dark] .colab-df-quickchart {\n",
              "      --bg-color: #3B4455;\n",
              "      --fill-color: #D2E3FC;\n",
              "      --hover-bg-color: #434B5C;\n",
              "      --hover-fill-color: #FFFFFF;\n",
              "      --disabled-bg-color: #3B4455;\n",
              "      --disabled-fill-color: #666;\n",
              "  }\n",
              "\n",
              "  .colab-df-quickchart {\n",
              "    background-color: var(--bg-color);\n",
              "    border: none;\n",
              "    border-radius: 50%;\n",
              "    cursor: pointer;\n",
              "    display: none;\n",
              "    fill: var(--fill-color);\n",
              "    height: 32px;\n",
              "    padding: 0;\n",
              "    width: 32px;\n",
              "  }\n",
              "\n",
              "  .colab-df-quickchart:hover {\n",
              "    background-color: var(--hover-bg-color);\n",
              "    box-shadow: 0 1px 2px rgba(60, 64, 67, 0.3), 0 1px 3px 1px rgba(60, 64, 67, 0.15);\n",
              "    fill: var(--button-hover-fill-color);\n",
              "  }\n",
              "\n",
              "  .colab-df-quickchart-complete:disabled,\n",
              "  .colab-df-quickchart-complete:disabled:hover {\n",
              "    background-color: var(--disabled-bg-color);\n",
              "    fill: var(--disabled-fill-color);\n",
              "    box-shadow: none;\n",
              "  }\n",
              "\n",
              "  .colab-df-spinner {\n",
              "    border: 2px solid var(--fill-color);\n",
              "    border-color: transparent;\n",
              "    border-bottom-color: var(--fill-color);\n",
              "    animation:\n",
              "      spin 1s steps(1) infinite;\n",
              "  }\n",
              "\n",
              "  @keyframes spin {\n",
              "    0% {\n",
              "      border-color: transparent;\n",
              "      border-bottom-color: var(--fill-color);\n",
              "      border-left-color: var(--fill-color);\n",
              "    }\n",
              "    20% {\n",
              "      border-color: transparent;\n",
              "      border-left-color: var(--fill-color);\n",
              "      border-top-color: var(--fill-color);\n",
              "    }\n",
              "    30% {\n",
              "      border-color: transparent;\n",
              "      border-left-color: var(--fill-color);\n",
              "      border-top-color: var(--fill-color);\n",
              "      border-right-color: var(--fill-color);\n",
              "    }\n",
              "    40% {\n",
              "      border-color: transparent;\n",
              "      border-right-color: var(--fill-color);\n",
              "      border-top-color: var(--fill-color);\n",
              "    }\n",
              "    60% {\n",
              "      border-color: transparent;\n",
              "      border-right-color: var(--fill-color);\n",
              "    }\n",
              "    80% {\n",
              "      border-color: transparent;\n",
              "      border-right-color: var(--fill-color);\n",
              "      border-bottom-color: var(--fill-color);\n",
              "    }\n",
              "    90% {\n",
              "      border-color: transparent;\n",
              "      border-bottom-color: var(--fill-color);\n",
              "    }\n",
              "  }\n",
              "</style>\n",
              "\n",
              "  <script>\n",
              "    async function quickchart(key) {\n",
              "      const quickchartButtonEl =\n",
              "        document.querySelector('#' + key + ' button');\n",
              "      quickchartButtonEl.disabled = true;  // To prevent multiple clicks.\n",
              "      quickchartButtonEl.classList.add('colab-df-spinner');\n",
              "      try {\n",
              "        const charts = await google.colab.kernel.invokeFunction(\n",
              "            'suggestCharts', [key], {});\n",
              "      } catch (error) {\n",
              "        console.error('Error during call to suggestCharts:', error);\n",
              "      }\n",
              "      quickchartButtonEl.classList.remove('colab-df-spinner');\n",
              "      quickchartButtonEl.classList.add('colab-df-quickchart-complete');\n",
              "    }\n",
              "    (() => {\n",
              "      let quickchartButtonEl =\n",
              "        document.querySelector('#df-0bb705c3-0545-471b-bad7-22ca2650752e button');\n",
              "      quickchartButtonEl.style.display =\n",
              "        google.colab.kernel.accessAllowed ? 'block' : 'none';\n",
              "    })();\n",
              "  </script>\n",
              "</div>\n",
              "    </div>\n",
              "  </div>\n"
            ]
          },
          "metadata": {},
          "execution_count": 7
        }
      ]
    },
    {
      "cell_type": "code",
      "source": [
        "label_counts = df['label'].value_counts()\n",
        "\n",
        "plt.figure(figsize=(6, 6))\n",
        "sns.set(style=\"whitegrid\")\n",
        "sns.set_palette(\"pastel\")\n",
        "plt.pie(label_counts, labels=label_counts.index, autopct='%1.1f%%', startangle=140)\n",
        "plt.title('Распределение данных по категориям')\n",
        "plt.show()"
      ],
      "metadata": {
        "id": "fAt8xypWCM2k",
        "colab": {
          "base_uri": "https://localhost:8080/",
          "height": 521
        },
        "outputId": "baa858c7-a577-41c9-a692-1e9d97a97e60"
      },
      "execution_count": null,
      "outputs": [
        {
          "output_type": "display_data",
          "data": {
            "text/plain": [
              "<Figure size 600x600 with 1 Axes>"
            ],
            "image/png": "[encoded data removed]"
          },
          "metadata": {}
        }
      ]
    },
    {
      "cell_type": "markdown",
      "source": [
        "## Label encoder"
      ],
      "metadata": {
        "id": "bNUvBTY6djy3"
      }
    },
    {
      "cell_type": "code",
      "source": [
        "id_to_label = {0: 'Общее',\n",
        " 1: 'Технологии',\n",
        " 2: 'бизнес и стартап',\n",
        " 3: 'блоги',\n",
        " 4: 'видео и фильмы',\n",
        " 5: 'дизайн',\n",
        " 6: 'еда и кулинария',\n",
        " 7: 'здоровье и медицина',\n",
        " 8: 'игры',\n",
        " 9: 'искусство',\n",
        " 10: 'крипта',\n",
        " 11: 'маркетинг',\n",
        " 12: 'мода и красота',\n",
        " 13: 'музыка',\n",
        " 14: 'новости и сми',\n",
        " 15: 'образование',\n",
        " 16: 'политика',\n",
        " 17: 'право',\n",
        " 18: 'психология',\n",
        " 19: 'путеш',\n",
        " 20: 'развлечения',\n",
        " 21: 'рукоделие',\n",
        " 22: 'софт и приложения',\n",
        " 23: 'спорт',\n",
        " 24: 'финансы',\n",
        " 25: 'фото',\n",
        " 26: 'цитаты',\n",
        " 27: 'шоу бизнес',\n",
        " 28: 'экономика'}"
      ],
      "metadata": {
        "id": "7qDn1_UQR78J"
      },
      "execution_count": null,
      "outputs": []
    },
    {
      "cell_type": "code",
      "source": [
        "label_to_id = { id_to_label[x]:x for x in id_to_label.keys()}\n",
        "label_to_id"
      ],
      "metadata": {
        "colab": {
          "base_uri": "https://localhost:8080/"
        },
        "id": "xteyY6Z0ZqtY",
        "outputId": "d35aacb8-0e61-4a58-db63-2912d8af82c7"
      },
      "execution_count": null,
      "outputs": [
        {
          "output_type": "execute_result",
          "data": {
            "text/plain": [
              "{'Общее': 0,\n",
              " 'Технологии': 1,\n",
              " 'бизнес и стартап': 2,\n",
              " 'блоги': 3,\n",
              " 'видео и фильмы': 4,\n",
              " 'дизайн': 5,\n",
              " 'еда и кулинария': 6,\n",
              " 'здоровье и медицина': 7,\n",
              " 'игры': 8,\n",
              " 'искусство': 9,\n",
              " 'крипта': 10,\n",
              " 'маркетинг': 11,\n",
              " 'мода и красота': 12,\n",
              " 'музыка': 13,\n",
              " 'новости и сми': 14,\n",
              " 'образование': 15,\n",
              " 'политика': 16,\n",
              " 'право': 17,\n",
              " 'психология': 18,\n",
              " 'путеш': 19,\n",
              " 'развлечения': 20,\n",
              " 'рукоделие': 21,\n",
              " 'софт и приложения': 22,\n",
              " 'спорт': 23,\n",
              " 'финансы': 24,\n",
              " 'фото': 25,\n",
              " 'цитаты': 26,\n",
              " 'шоу бизнес': 27,\n",
              " 'экономика': 28}"
            ]
          },
          "metadata": {},
          "execution_count": 10
        }
      ]
    },
    {
      "cell_type": "code",
      "source": [
        "df['label'].value_counts()"
      ],
      "metadata": {
        "id": "uUjqFFqWaZ15",
        "colab": {
          "base_uri": "https://localhost:8080/"
        },
        "outputId": "18cc73f7-430c-46d7-ae9a-8cc1f7091584"
      },
      "execution_count": null,
      "outputs": [
        {
          "output_type": "execute_result",
          "data": {
            "text/plain": [
              "экономика              4540\n",
              "бизнес и стартап       4385\n",
              "маркетинг              4121\n",
              "психология             4087\n",
              "политика               4084\n",
              "музыка                 3987\n",
              "шоу бизнес             3966\n",
              "образование            3877\n",
              "Технологии             3845\n",
              "право                  3811\n",
              "крипта                 3767\n",
              "путеш                  3739\n",
              "развлечения            3713\n",
              "спорт                  3661\n",
              "искусство              3490\n",
              "блоги                  3466\n",
              "видео и фильмы         3340\n",
              "мода и красота         3303\n",
              "здоровье и медицина    3054\n",
              "новости и сми          3007\n",
              "дизайн                 2993\n",
              "еда и кулинария        2970\n",
              "Общее                  2760\n",
              "игры                   2611\n",
              "финансы                2402\n",
              "софт и приложения      2218\n",
              "рукоделие              1768\n",
              "цитаты                 1492\n",
              "фото                   1489\n",
              "Name: label, dtype: int64"
            ]
          },
          "metadata": {},
          "execution_count": 11
        }
      ]
    },
    {
      "cell_type": "code",
      "source": [
        "df['label'] = df['label'].map(label_to_id)"
      ],
      "metadata": {
        "id": "UkbCbcvkaAT7"
      },
      "execution_count": null,
      "outputs": []
    },
    {
      "cell_type": "code",
      "source": [
        "df['label'].value_counts()"
      ],
      "metadata": {
        "id": "fZdtmzdHaXO5",
        "colab": {
          "base_uri": "https://localhost:8080/"
        },
        "outputId": "a04892c7-2e0a-4b50-f936-6a77670ea8ed"
      },
      "execution_count": null,
      "outputs": [
        {
          "output_type": "execute_result",
          "data": {
            "text/plain": [
              "28    4540\n",
              "2     4385\n",
              "11    4121\n",
              "18    4087\n",
              "16    4084\n",
              "13    3987\n",
              "27    3966\n",
              "15    3877\n",
              "1     3845\n",
              "17    3811\n",
              "10    3767\n",
              "19    3739\n",
              "20    3713\n",
              "23    3661\n",
              "9     3490\n",
              "3     3466\n",
              "4     3340\n",
              "12    3303\n",
              "7     3054\n",
              "14    3007\n",
              "5     2993\n",
              "6     2970\n",
              "0     2760\n",
              "8     2611\n",
              "24    2402\n",
              "22    2218\n",
              "21    1768\n",
              "26    1492\n",
              "25    1489\n",
              "Name: label, dtype: int64"
            ]
          },
          "metadata": {},
          "execution_count": 13
        }
      ]
    },
    {
      "cell_type": "code",
      "source": [
        "df['label'].value_counts().shape"
      ],
      "metadata": {
        "id": "9TWU4vNCadW3",
        "colab": {
          "base_uri": "https://localhost:8080/"
        },
        "outputId": "c0619ff8-5596-41f3-ea85-223cc52d87b2"
      },
      "execution_count": null,
      "outputs": [
        {
          "output_type": "execute_result",
          "data": {
            "text/plain": [
              "(29,)"
            ]
          },
          "metadata": {},
          "execution_count": 14
        }
      ]
    },
    {
      "cell_type": "markdown",
      "source": [
        "## Text preprocessing"
      ],
      "metadata": {
        "id": "wkjzJ4xzCNMB"
      }
    },
    {
      "cell_type": "code",
      "source": [
        "nltk.download('stopwords')\n",
        "STOPWORDS = set(stopwords.words('russian'))\n",
        "\n",
        "def preprocessing_text(text):\n",
        "    if type(text) != str:\n",
        "        return ''\n",
        "    # text to lower case\n",
        "    text = text.lower()\n",
        "    # Remocal english words\n",
        "    text = output_string = re.sub(r'[a-zA-Z]', '', text)\n",
        "    # remove punctuation\n",
        "    text = text.replace('\\n', ' ').replace('—', '').replace('«', '')\n",
        "    PUNCT_TO_REMOVE = string.punctuation\n",
        "    text = text.translate(str.maketrans('', '', PUNCT_TO_REMOVE))\n",
        "    # Removal of stopwords\n",
        "    text = \" \".join([word for word in str(text).split() if word not in STOPWORDS])\n",
        "    #Removal of Emojis\n",
        "    emoji_pattern = re.compile(\"[\"\n",
        "                           u\"\\U0001F600-\\U0001F64F\"\n",
        "                           u\"\\U0001F300-\\U0001F5FF\"\n",
        "                           u\"\\U0001F680-\\U0001F6FF\"\n",
        "                           u\"\\U0001F1E0-\\U0001F1FF\"\n",
        "                           u\"\\U00002702-\\U000027B0\"\n",
        "                           u\"\\U000024C2-\\U0001F251\"\n",
        "                           \"]+\", flags=re.UNICODE)\n",
        "    text = emoji_pattern.sub(r'', text)\n",
        "\n",
        "    # Remove urls\n",
        "    url_pattern = re.compile(r'https?://\\S+|www\\.\\S+')\n",
        "    text = url_pattern.sub(r'', text)\n",
        "\n",
        "    return text"
      ],
      "metadata": {
        "id": "_alofaQ-ptLP",
        "colab": {
          "base_uri": "https://localhost:8080/"
        },
        "outputId": "489a7f64-f55c-4379-d67f-d007dba3cf6a"
      },
      "execution_count": null,
      "outputs": [
        {
          "output_type": "stream",
          "name": "stderr",
          "text": [
            "[nltk_data] Downloading package stopwords to /root/nltk_data...\n",
            "[nltk_data]   Package stopwords is already up-to-date!\n"
          ]
        }
      ]
    },
    {
      "cell_type": "code",
      "source": [
        "df['prepared_text'] = df['text'].apply(preprocessing_text)"
      ],
      "metadata": {
        "id": "eF9WIAqqfbDi"
      },
      "execution_count": null,
      "outputs": []
    },
    {
      "cell_type": "code",
      "source": [
        "df.head(3)"
      ],
      "metadata": {
        "colab": {
          "base_uri": "https://localhost:8080/",
          "height": 195
        },
        "id": "wXPmgez2Ct1Y",
        "outputId": "91316c0d-666d-49c2-8f92-9cf7752e8ddd"
      },
      "execution_count": null,
      "outputs": [
        {
          "output_type": "execute_result",
          "data": {
            "text/plain": [
              "                                                text  label  \\\n",
              "0  стартап болезнь 1 самом начале пути стартап не...      2   \n",
              "1  допустить глупых ошибок пресиде очень многое з...      2   \n",
              "2  хочу напомнить чат можете вакансию разместить ...      2   \n",
              "\n",
              "                                       prepared_text  \n",
              "0  стартап болезнь 1 самом начале пути стартап не...  \n",
              "1  допустить глупых ошибок пресиде очень многое з...  \n",
              "2  хочу напомнить чат можете вакансию разместить ...  "
            ],
            "text/html": [
              "\n",
              "  <div id=\"df-f279b0fa-3b81-48ca-a64d-dc9adbe3f685\" class=\"colab-df-container\">\n",
              "    <div>\n",
              "<style scoped>\n",
              "    .dataframe tbody tr th:only-of-type {\n",
              "        vertical-align: middle;\n",
              "    }\n",
              "\n",
              "    .dataframe tbody tr th {\n",
              "        vertical-align: top;\n",
              "    }\n",
              "\n",
              "    .dataframe thead th {\n",
              "        text-align: right;\n",
              "    }\n",
              "</style>\n",
              "<table border=\"1\" class=\"dataframe\">\n",
              "  <thead>\n",
              "    <tr style=\"text-align: right;\">\n",
              "      <th></th>\n",
              "      <th>text</th>\n",
              "      <th>label</th>\n",
              "      <th>prepared_text</th>\n",
              "    </tr>\n",
              "  </thead>\n",
              "  <tbody>\n",
              "    <tr>\n",
              "      <th>0</th>\n",
              "      <td>стартап болезнь 1 самом начале пути стартап не...</td>\n",
              "      <td>2</td>\n",
              "      <td>стартап болезнь 1 самом начале пути стартап не...</td>\n",
              "    </tr>\n",
              "    <tr>\n",
              "      <th>1</th>\n",
              "      <td>допустить глупых ошибок пресиде очень многое з...</td>\n",
              "      <td>2</td>\n",
              "      <td>допустить глупых ошибок пресиде очень многое з...</td>\n",
              "    </tr>\n",
              "    <tr>\n",
              "      <th>2</th>\n",
              "      <td>хочу напомнить чат можете вакансию разместить ...</td>\n",
              "      <td>2</td>\n",
              "      <td>хочу напомнить чат можете вакансию разместить ...</td>\n",
              "    </tr>\n",
              "  </tbody>\n",
              "</table>\n",
              "</div>\n",
              "    <div class=\"colab-df-buttons\">\n",
              "\n",
              "  <div class=\"colab-df-container\">\n",
              "    <button class=\"colab-df-convert\" onclick=\"convertToInteractive('df-f279b0fa-3b81-48ca-a64d-dc9adbe3f685')\"\n",
              "            title=\"Convert this dataframe to an interactive table.\"\n",
              "            style=\"display:none;\">\n",
              "\n",
              "  <svg xmlns=\"http://www.w3.org/2000/svg\" height=\"24px\" viewBox=\"0 -960 960 960\">\n",
              "    <path d=\"M120-120v-720h720v720H120Zm60-500h600v-160H180v160Zm220 220h160v-160H400v160Zm0 220h160v-160H400v160ZM180-400h160v-160H180v160Zm440 0h160v-160H620v160ZM180-180h160v-160H180v160Zm440 0h160v-160H620v160Z\"/>\n",
              "  </svg>\n",
              "    </button>\n",
              "\n",
              "  <style>\n",
              "    .colab-df-container {\n",
              "      display:flex;\n",
              "      gap: 12px;\n",
              "    }\n",
              "\n",
              "    .colab-df-convert {\n",
              "      background-color: #E8F0FE;\n",
              "      border: none;\n",
              "      border-radius: 50%;\n",
              "      cursor: pointer;\n",
              "      display: none;\n",
              "      fill: #1967D2;\n",
              "      height: 32px;\n",
              "      padding: 0 0 0 0;\n",
              "      width: 32px;\n",
              "    }\n",
              "\n",
              "    .colab-df-convert:hover {\n",
              "      background-color: #E2EBFA;\n",
              "      box-shadow: 0px 1px 2px rgba(60, 64, 67, 0.3), 0px 1px 3px 1px rgba(60, 64, 67, 0.15);\n",
              "      fill: #174EA6;\n",
              "    }\n",
              "\n",
              "    .colab-df-buttons div {\n",
              "      margin-bottom: 4px;\n",
              "    }\n",
              "\n",
              "    [theme=dark] .colab-df-convert {\n",
              "      background-color: #3B4455;\n",
              "      fill: #D2E3FC;\n",
              "    }\n",
              "\n",
              "    [theme=dark] .colab-df-convert:hover {\n",
              "      background-color: #434B5C;\n",
              "      box-shadow: 0px 1px 3px 1px rgba(0, 0, 0, 0.15);\n",
              "      filter: drop-shadow(0px 1px 2px rgba(0, 0, 0, 0.3));\n",
              "      fill: #FFFFFF;\n",
              "    }\n",
              "  </style>\n",
              "\n",
              "    <script>\n",
              "      const buttonEl =\n",
              "        document.querySelector('#df-f279b0fa-3b81-48ca-a64d-dc9adbe3f685 button.colab-df-convert');\n",
              "      buttonEl.style.display =\n",
              "        google.colab.kernel.accessAllowed ? 'block' : 'none';\n",
              "\n",
              "      async function convertToInteractive(key) {\n",
              "        const element = document.querySelector('#df-f279b0fa-3b81-48ca-a64d-dc9adbe3f685');\n",
              "        const dataTable =\n",
              "          await google.colab.kernel.invokeFunction('convertToInteractive',\n",
              "                                                    [key], {});\n",
              "        if (!dataTable) return;\n",
              "\n",
              "        const docLinkHtml = 'Like what you see? Visit the ' +\n",
              "          '<a target=\"_blank\" href=https://colab.research.google.com/notebooks/data_table.ipynb>data table notebook</a>'\n",
              "          + ' to learn more about interactive tables.';\n",
              "        element.innerHTML = '';\n",
              "        dataTable['output_type'] = 'display_data';\n",
              "        await google.colab.output.renderOutput(dataTable, element);\n",
              "        const docLink = document.createElement('div');\n",
              "        docLink.innerHTML = docLinkHtml;\n",
              "        element.appendChild(docLink);\n",
              "      }\n",
              "    </script>\n",
              "  </div>\n",
              "\n",
              "\n",
              "<div id=\"df-b221888d-9552-42a9-8622-ff4a4476c895\">\n",
              "  <button class=\"colab-df-quickchart\" onclick=\"quickchart('df-b221888d-9552-42a9-8622-ff4a4476c895')\"\n",
              "            title=\"Suggest charts.\"\n",
              "            style=\"display:none;\">\n",
              "\n",
              "<svg xmlns=\"http://www.w3.org/2000/svg\" height=\"24px\"viewBox=\"0 0 24 24\"\n",
              "     width=\"24px\">\n",
              "    <g>\n",
              "        <path d=\"M19 3H5c-1.1 0-2 .9-2 2v14c0 1.1.9 2 2 2h14c1.1 0 2-.9 2-2V5c0-1.1-.9-2-2-2zM9 17H7v-7h2v7zm4 0h-2V7h2v10zm4 0h-2v-4h2v4z\"/>\n",
              "    </g>\n",
              "</svg>\n",
              "  </button>\n",
              "\n",
              "<style>\n",
              "  .colab-df-quickchart {\n",
              "      --bg-color: #E8F0FE;\n",
              "      --fill-color: #1967D2;\n",
              "      --hover-bg-color: #E2EBFA;\n",
              "      --hover-fill-color: #174EA6;\n",
              "      --disabled-fill-color: #AAA;\n",
              "      --disabled-bg-color: #DDD;\n",
              "  }\n",
              "\n",
              "  [theme=dark] .colab-df-quickchart {\n",
              "      --bg-color: #3B4455;\n",
              "      --fill-color: #D2E3FC;\n",
              "      --hover-bg-color: #434B5C;\n",
              "      --hover-fill-color: #FFFFFF;\n",
              "      --disabled-bg-color: #3B4455;\n",
              "      --disabled-fill-color: #666;\n",
              "  }\n",
              "\n",
              "  .colab-df-quickchart {\n",
              "    background-color: var(--bg-color);\n",
              "    border: none;\n",
              "    border-radius: 50%;\n",
              "    cursor: pointer;\n",
              "    display: none;\n",
              "    fill: var(--fill-color);\n",
              "    height: 32px;\n",
              "    padding: 0;\n",
              "    width: 32px;\n",
              "  }\n",
              "\n",
              "  .colab-df-quickchart:hover {\n",
              "    background-color: var(--hover-bg-color);\n",
              "    box-shadow: 0 1px 2px rgba(60, 64, 67, 0.3), 0 1px 3px 1px rgba(60, 64, 67, 0.15);\n",
              "    fill: var(--button-hover-fill-color);\n",
              "  }\n",
              "\n",
              "  .colab-df-quickchart-complete:disabled,\n",
              "  .colab-df-quickchart-complete:disabled:hover {\n",
              "    background-color: var(--disabled-bg-color);\n",
              "    fill: var(--disabled-fill-color);\n",
              "    box-shadow: none;\n",
              "  }\n",
              "\n",
              "  .colab-df-spinner {\n",
              "    border: 2px solid var(--fill-color);\n",
              "    border-color: transparent;\n",
              "    border-bottom-color: var(--fill-color);\n",
              "    animation:\n",
              "      spin 1s steps(1) infinite;\n",
              "  }\n",
              "\n",
              "  @keyframes spin {\n",
              "    0% {\n",
              "      border-color: transparent;\n",
              "      border-bottom-color: var(--fill-color);\n",
              "      border-left-color: var(--fill-color);\n",
              "    }\n",
              "    20% {\n",
              "      border-color: transparent;\n",
              "      border-left-color: var(--fill-color);\n",
              "      border-top-color: var(--fill-color);\n",
              "    }\n",
              "    30% {\n",
              "      border-color: transparent;\n",
              "      border-left-color: var(--fill-color);\n",
              "      border-top-color: var(--fill-color);\n",
              "      border-right-color: var(--fill-color);\n",
              "    }\n",
              "    40% {\n",
              "      border-color: transparent;\n",
              "      border-right-color: var(--fill-color);\n",
              "      border-top-color: var(--fill-color);\n",
              "    }\n",
              "    60% {\n",
              "      border-color: transparent;\n",
              "      border-right-color: var(--fill-color);\n",
              "    }\n",
              "    80% {\n",
              "      border-color: transparent;\n",
              "      border-right-color: var(--fill-color);\n",
              "      border-bottom-color: var(--fill-color);\n",
              "    }\n",
              "    90% {\n",
              "      border-color: transparent;\n",
              "      border-bottom-color: var(--fill-color);\n",
              "    }\n",
              "  }\n",
              "</style>\n",
              "\n",
              "  <script>\n",
              "    async function quickchart(key) {\n",
              "      const quickchartButtonEl =\n",
              "        document.querySelector('#' + key + ' button');\n",
              "      quickchartButtonEl.disabled = true;  // To prevent multiple clicks.\n",
              "      quickchartButtonEl.classList.add('colab-df-spinner');\n",
              "      try {\n",
              "        const charts = await google.colab.kernel.invokeFunction(\n",
              "            'suggestCharts', [key], {});\n",
              "      } catch (error) {\n",
              "        console.error('Error during call to suggestCharts:', error);\n",
              "      }\n",
              "      quickchartButtonEl.classList.remove('colab-df-spinner');\n",
              "      quickchartButtonEl.classList.add('colab-df-quickchart-complete');\n",
              "    }\n",
              "    (() => {\n",
              "      let quickchartButtonEl =\n",
              "        document.querySelector('#df-b221888d-9552-42a9-8622-ff4a4476c895 button');\n",
              "      quickchartButtonEl.style.display =\n",
              "        google.colab.kernel.accessAllowed ? 'block' : 'none';\n",
              "    })();\n",
              "  </script>\n",
              "</div>\n",
              "    </div>\n",
              "  </div>\n"
            ]
          },
          "metadata": {},
          "execution_count": 17
        }
      ]
    },
    {
      "cell_type": "code",
      "source": [
        "prepared_df = df[['prepared_text', 'label']]"
      ],
      "metadata": {
        "id": "N3Tj7lq0DVO0"
      },
      "execution_count": null,
      "outputs": []
    },
    {
      "cell_type": "markdown",
      "source": [
        "## Custom DataSet"
      ],
      "metadata": {
        "id": "1jMHD6XWr6Wd"
      }
    },
    {
      "cell_type": "code",
      "source": [
        "class CustomDataset():\n",
        "    def __init__(self, data: pd.DataFrame, tokenizer: AutoTokenizer, max_length: int):\n",
        "        self.data = data\n",
        "        self.tokenizer = tokenizer\n",
        "        self.max_length = max_length\n",
        "\n",
        "    def __len__(self):\n",
        "        return self.data.shape[0]\n",
        "\n",
        "    def __getitem__(self, idx: int):\n",
        "        text = self.data.iloc[idx, 0]\n",
        "        label = self.data.iloc[idx, 1]\n",
        "\n",
        "        encoded_text = self.tokenizer(text, truncation=True, padding='max_length', max_length=self.max_length, return_tensors='pt')\n",
        "\n",
        "        return {\n",
        "            'input_ids': encoded_text['input_ids'].squeeze(),\n",
        "            'label': torch.tensor(label, dtype=torch.long)\n",
        "        }"
      ],
      "metadata": {
        "id": "SNyw8ELfr5yS"
      },
      "execution_count": null,
      "outputs": []
    },
    {
      "cell_type": "markdown",
      "source": [
        "## Load model"
      ],
      "metadata": {
        "id": "0DMw3Ln1xwo7"
      }
    },
    {
      "cell_type": "code",
      "source": [
        "tokenizer = AutoTokenizer.from_pretrained(args.model_name)\n",
        "bert = AutoModel.from_pretrained(args.model_name)"
      ],
      "metadata": {
        "id": "tAyQhzFywkdM",
        "colab": {
          "base_uri": "https://localhost:8080/"
        },
        "outputId": "0b69916c-24aa-486b-d055-3a5691fbc670"
      },
      "execution_count": null,
      "outputs": [
        {
          "output_type": "stream",
          "name": "stderr",
          "text": [
            "Some weights of RobertaModel were not initialized from the model checkpoint at ai-forever/ruRoberta-large and are newly initialized: ['roberta.pooler.dense.bias', 'roberta.pooler.dense.weight']\n",
            "You should probably TRAIN this model on a down-stream task to be able to use it for predictions and inference.\n"
          ]
        }
      ]
    },
    {
      "cell_type": "markdown",
      "source": [
        "## Train test split"
      ],
      "metadata": {
        "id": "p04XVOx-x1Ff"
      }
    },
    {
      "cell_type": "code",
      "source": [
        "train_df, valid_df = train_test_split(prepared_df, test_size=0.2, shuffle=True, random_state=args.random_state)\n",
        "train_df.shape, valid_df.shape"
      ],
      "metadata": {
        "colab": {
          "base_uri": "https://localhost:8080/"
        },
        "id": "rpx0_A6LyEqd",
        "outputId": "40a1d733-e307-4d37-c437-0ed84ec0a2d1"
      },
      "execution_count": null,
      "outputs": [
        {
          "output_type": "execute_result",
          "data": {
            "text/plain": [
              "((76756, 2), (19190, 2))"
            ]
          },
          "metadata": {},
          "execution_count": 21
        }
      ]
    },
    {
      "cell_type": "code",
      "source": [
        "train_dataset = CustomDataset(train_df, tokenizer, args.max_length)\n",
        "valid_dataset = CustomDataset(valid_df, tokenizer, args.max_length)\n",
        "\n",
        "train_dataloader = DataLoader(train_dataset, batch_size=args.batch_size, shuffle=True, drop_last=True)\n",
        "valid_dataloader = DataLoader(valid_dataset, batch_size=args.batch_size, shuffle=True, drop_last=True)"
      ],
      "metadata": {
        "id": "OiIHvQeswd5e"
      },
      "execution_count": null,
      "outputs": []
    },
    {
      "cell_type": "code",
      "source": [
        "next(iter(train_dataloader))['input_ids'].shape"
      ],
      "metadata": {
        "colab": {
          "base_uri": "https://localhost:8080/"
        },
        "id": "pcTItEezrw-2",
        "outputId": "75dc21ca-978e-42dc-c2fd-99f80abfceb0"
      },
      "execution_count": null,
      "outputs": [
        {
          "output_type": "execute_result",
          "data": {
            "text/plain": [
              "torch.Size([8, 128])"
            ]
          },
          "metadata": {},
          "execution_count": 23
        }
      ]
    },
    {
      "cell_type": "markdown",
      "source": [
        "## Model implementation"
      ],
      "metadata": {
        "id": "lzd8C1fphM8x"
      }
    },
    {
      "cell_type": "code",
      "source": [
        "class MegaModel(nn.Module):\n",
        "    def __init__(self, bert, out_dim):\n",
        "        super().__init__()\n",
        "        self.bert = bert\n",
        "        self.emb_dim = self.bert.embeddings.word_embeddings.weight.shape[-1]\n",
        "        self.out = nn.Linear(self.emb_dim, out_dim)\n",
        "\n",
        "    def forward(self, input):\n",
        "        emb = self.bert(input).last_hidden_state[:, 0, :]\n",
        "        emb = torch.nn.functional.normalize(emb)\n",
        "        return self.out(emb)"
      ],
      "metadata": {
        "id": "_2zp11pVD7Jk"
      },
      "execution_count": null,
      "outputs": []
    },
    {
      "cell_type": "markdown",
      "source": [
        "## Training"
      ],
      "metadata": {
        "id": "WeAuEJ2hhXWR"
      }
    },
    {
      "cell_type": "code",
      "source": [
        "from transformers import get_cosine_schedule_with_warmup\n",
        "from sklearn.metrics import f1_score"
      ],
      "metadata": {
        "id": "qSPB29toGHjy"
      },
      "execution_count": null,
      "outputs": []
    },
    {
      "cell_type": "code",
      "source": [
        "def train(args, dataloader: DataLoader, model, optimizer, loss_function, scheduler):\n",
        "    model.to(args.device)\n",
        "    model.train()\n",
        "\n",
        "    loss_function.to(args.device)\n",
        "\n",
        "    for epoch in range(args.num_epochs):\n",
        "        pbar = tqdm(dataloader, desc=f'Training epoch {epoch + 1}', total=len(dataloader))\n",
        "\n",
        "\n",
        "        preds = []\n",
        "        targets = []\n",
        "\n",
        "        dl_size = len(dataloader)\n",
        "\n",
        "        total_train_loss = 0.0\n",
        "\n",
        "        for batch_idx, batch in enumerate(pbar):\n",
        "\n",
        "            inputs = batch['input_ids'].to(args.device)\n",
        "            labels = batch['label'].to(args.device)\n",
        "\n",
        "            optimizer.zero_grad()\n",
        "            outputs = model(inputs)\n",
        "\n",
        "            probabilities = F.softmax(outputs, dim=1)\n",
        "            predicted_class = probabilities.argmax(dim=1)\n",
        "\n",
        "            preds.append(predicted_class)\n",
        "            targets.append(labels)\n",
        "\n",
        "\n",
        "            loss = loss_function(outputs, labels)\n",
        "            total_train_loss += loss.item()\n",
        "\n",
        "            loss.backward()\n",
        "\n",
        "            torch.nn.utils.clip_grad_norm_(model.parameters(), 1.0)\n",
        "            optimizer.step()\n",
        "            scheduler.step()\n",
        "\n",
        "        preds = torch.cat(preds, dim=0)\n",
        "        targets = torch.cat(targets, dim=0)\n",
        "        acc = (targets == preds).sum() / preds.shape[0]\n",
        "        f1 = f1_score(preds.cpu(), targets.cpu(), average='micro')\n",
        "        f1_macro = f1_score(preds.cpu(), targets.cpu(), average='macro')\n",
        "\n",
        "        metrics = {\n",
        "            \"Train Loss\": total_train_loss / dl_size,\n",
        "            \"Train Accuracy\": acc.item(),\n",
        "            \"Train F1_micro\": f1.item(),\n",
        "            \"Train F1_macro\": f1_macro.item()\n",
        "        }\n",
        "\n",
        "        print(metrics)"
      ],
      "metadata": {
        "id": "mIhhPpx7ClZd"
      },
      "execution_count": null,
      "outputs": []
    },
    {
      "cell_type": "code",
      "source": [
        "checkpoint = torch.load('/content/drive/MyDrive/checkpoint_102.pth')"
      ],
      "metadata": {
        "id": "j2FVCl0pNAJ0"
      },
      "execution_count": null,
      "outputs": []
    },
    {
      "cell_type": "code",
      "source": [
        "model = MegaModel(bert, 29)\n",
        "model.load_state_dict(checkpoint['model'])\n",
        "model.to(args.device)"
      ],
      "metadata": {
        "colab": {
          "base_uri": "https://localhost:8080/"
        },
        "id": "H5s267BtFjyO",
        "outputId": "98a66166-2d80-493b-a4f6-d76f381d0297"
      },
      "execution_count": null,
      "outputs": [
        {
          "output_type": "execute_result",
          "data": {
            "text/plain": [
              "MegaModel(\n",
              "  (bert): RobertaModel(\n",
              "    (embeddings): RobertaEmbeddings(\n",
              "      (word_embeddings): Embedding(50265, 1024, padding_idx=1)\n",
              "      (position_embeddings): Embedding(514, 1024, padding_idx=1)\n",
              "      (token_type_embeddings): Embedding(1, 1024)\n",
              "      (LayerNorm): LayerNorm((1024,), eps=1e-05, elementwise_affine=True)\n",
              "      (dropout): Dropout(p=0.1, inplace=False)\n",
              "    )\n",
              "    (encoder): RobertaEncoder(\n",
              "      (layer): ModuleList(\n",
              "        (0-23): 24 x RobertaLayer(\n",
              "          (attention): RobertaAttention(\n",
              "            (self): RobertaSelfAttention(\n",
              "              (query): Linear(in_features=1024, out_features=1024, bias=True)\n",
              "              (key): Linear(in_features=1024, out_features=1024, bias=True)\n",
              "              (value): Linear(in_features=1024, out_features=1024, bias=True)\n",
              "              (dropout): Dropout(p=0.1, inplace=False)\n",
              "            )\n",
              "            (output): RobertaSelfOutput(\n",
              "              (dense): Linear(in_features=1024, out_features=1024, bias=True)\n",
              "              (LayerNorm): LayerNorm((1024,), eps=1e-05, elementwise_affine=True)\n",
              "              (dropout): Dropout(p=0.1, inplace=False)\n",
              "            )\n",
              "          )\n",
              "          (intermediate): RobertaIntermediate(\n",
              "            (dense): Linear(in_features=1024, out_features=4096, bias=True)\n",
              "            (intermediate_act_fn): GELUActivation()\n",
              "          )\n",
              "          (output): RobertaOutput(\n",
              "            (dense): Linear(in_features=4096, out_features=1024, bias=True)\n",
              "            (LayerNorm): LayerNorm((1024,), eps=1e-05, elementwise_affine=True)\n",
              "            (dropout): Dropout(p=0.1, inplace=False)\n",
              "          )\n",
              "        )\n",
              "      )\n",
              "    )\n",
              "    (pooler): RobertaPooler(\n",
              "      (dense): Linear(in_features=1024, out_features=1024, bias=True)\n",
              "      (activation): Tanh()\n",
              "    )\n",
              "  )\n",
              "  (out): Linear(in_features=1024, out_features=29, bias=True)\n",
              ")"
            ]
          },
          "metadata": {},
          "execution_count": 28
        }
      ]
    },
    {
      "cell_type": "code",
      "source": [
        "model.to(args.device)"
      ],
      "metadata": {
        "id": "auO7z9ZwjkZl",
        "outputId": "96b16b13-6632-4253-d9cc-835bb3835010",
        "colab": {
          "base_uri": "https://localhost:8080/"
        }
      },
      "execution_count": null,
      "outputs": [
        {
          "output_type": "execute_result",
          "data": {
            "text/plain": [
              "MegaModel(\n",
              "  (bert): RobertaModel(\n",
              "    (embeddings): RobertaEmbeddings(\n",
              "      (word_embeddings): Embedding(50265, 1024, padding_idx=1)\n",
              "      (position_embeddings): Embedding(514, 1024, padding_idx=1)\n",
              "      (token_type_embeddings): Embedding(1, 1024)\n",
              "      (LayerNorm): LayerNorm((1024,), eps=1e-05, elementwise_affine=True)\n",
              "      (dropout): Dropout(p=0.1, inplace=False)\n",
              "    )\n",
              "    (encoder): RobertaEncoder(\n",
              "      (layer): ModuleList(\n",
              "        (0-23): 24 x RobertaLayer(\n",
              "          (attention): RobertaAttention(\n",
              "            (self): RobertaSelfAttention(\n",
              "              (query): Linear(in_features=1024, out_features=1024, bias=True)\n",
              "              (key): Linear(in_features=1024, out_features=1024, bias=True)\n",
              "              (value): Linear(in_features=1024, out_features=1024, bias=True)\n",
              "              (dropout): Dropout(p=0.1, inplace=False)\n",
              "            )\n",
              "            (output): RobertaSelfOutput(\n",
              "              (dense): Linear(in_features=1024, out_features=1024, bias=True)\n",
              "              (LayerNorm): LayerNorm((1024,), eps=1e-05, elementwise_affine=True)\n",
              "              (dropout): Dropout(p=0.1, inplace=False)\n",
              "            )\n",
              "          )\n",
              "          (intermediate): RobertaIntermediate(\n",
              "            (dense): Linear(in_features=1024, out_features=4096, bias=True)\n",
              "            (intermediate_act_fn): GELUActivation()\n",
              "          )\n",
              "          (output): RobertaOutput(\n",
              "            (dense): Linear(in_features=4096, out_features=1024, bias=True)\n",
              "            (LayerNorm): LayerNorm((1024,), eps=1e-05, elementwise_affine=True)\n",
              "            (dropout): Dropout(p=0.1, inplace=False)\n",
              "          )\n",
              "        )\n",
              "      )\n",
              "    )\n",
              "    (pooler): RobertaPooler(\n",
              "      (dense): Linear(in_features=1024, out_features=1024, bias=True)\n",
              "      (activation): Tanh()\n",
              "    )\n",
              "  )\n",
              "  (out): Linear(in_features=1024, out_features=29, bias=True)\n",
              ")"
            ]
          },
          "metadata": {},
          "execution_count": 29
        }
      ]
    },
    {
      "cell_type": "code",
      "source": [
        "optimizer = AdamW(\n",
        "        [\n",
        "            {\"params\": model.out.parameters(), \"lr\": 1e-4},\n",
        "            {\"params\": model.bert.parameters(), \"lr\": 4e-6},\n",
        "        ]\n",
        "    )\n",
        "\n",
        "optimizer.load_state_dict(checkpoint['optimizer'])\n",
        "criterion = nn.CrossEntropyLoss().to(args.device)"
      ],
      "metadata": {
        "id": "szjHijCjKofp"
      },
      "execution_count": null,
      "outputs": []
    },
    {
      "cell_type": "code",
      "source": [
        "total_steps = len(train_dataloader)\n",
        "\n",
        "scheduler = get_cosine_schedule_with_warmup(optimizer,\n",
        "                                            num_warmup_steps = 0,\n",
        "                                            num_training_steps = total_steps)"
      ],
      "metadata": {
        "id": "6TqYAYH7F96B"
      },
      "execution_count": null,
      "outputs": []
    },
    {
      "cell_type": "code",
      "source": [
        "scheduler.load_state_dict(checkpoint['lr_sched'])"
      ],
      "metadata": {
        "id": "OZJiFld2NZO-"
      },
      "execution_count": null,
      "outputs": []
    },
    {
      "cell_type": "code",
      "source": [
        "train(args, train_dataloader, model, optimizer, criterion, scheduler)"
      ],
      "metadata": {
        "colab": {
          "base_uri": "https://localhost:8080/"
        },
        "id": "hP9F8YvlPNbb",
        "outputId": "535f1098-e7ef-44fe-dcfd-5f202415036d"
      },
      "execution_count": 33,
      "outputs": [
        {
          "output_type": "stream",
          "name": "stderr",
          "text": [
            "Training epoch 1:   0%|          | 0/9594 [00:00<?, ?it/s]We strongly recommend passing in an `attention_mask` since your input_ids may be padded. See https://huggingface.co/docs/transformers/troubleshooting#incorrect-output-when-padding-tokens-arent-masked.\n",
            "You may ignore this warning if your `pad_token_id` (1) is identical to the `bos_token_id` (1), `eos_token_id` (2), or the `sep_token_id` (None), and your input is not padded.\n",
            "Training epoch 1: 100%|██████████| 9594/9594 [1:58:43<00:00,  1.35it/s]\n"
          ]
        },
        {
          "output_type": "stream",
          "name": "stdout",
          "text": [
            "{'Train Loss': 0.43466150742823095, 'Train Accuracy': 0.8884849548339844, 'Train F1_micro': 0.888484990619137, 'Train F1_macro': 0.8846810751574359}\n"
          ]
        }
      ]
    },
    {
      "cell_type": "code",
      "source": [
        "checkpoint = {\n",
        "    'model': model.state_dict()\n",
        "}"
      ],
      "metadata": {
        "id": "2RMKu_jI5Vsy"
      },
      "execution_count": 35,
      "outputs": []
    },
    {
      "cell_type": "code",
      "source": [
        "torch.save(checkpoint, '/content/drive/MyDrive/checkpoint.pth')"
      ],
      "metadata": {
        "id": "6u1u43YuFt0q"
      },
      "execution_count": 36,
      "outputs": []
    },
    {
      "cell_type": "code",
      "source": [
        "bert.save_pretrained('/content/drive/MyDrive/bert')"
      ],
      "metadata": {
        "id": "PihOvs-8F1aS"
      },
      "execution_count": 37,
      "outputs": []
    },
    {
      "cell_type": "markdown",
      "source": [
        "## Evaluate on Valid data"
      ],
      "metadata": {
        "id": "isXAy1k2owZu"
      }
    },
    {
      "cell_type": "code",
      "source": [
        "def eval(args, dataloader: DataLoader, model):\n",
        "    model.to(args.device)\n",
        "    model.eval()\n",
        "\n",
        "    pbar = tqdm(dataloader, desc='Evaluate', total=len(dataloader))\n",
        "\n",
        "    preds = []\n",
        "    targets = []\n",
        "\n",
        "    dl_size = len(dataloader)\n",
        "\n",
        "    total_train_loss = 0.0\n",
        "\n",
        "    for batch_idx, batch in enumerate(pbar):\n",
        "\n",
        "        inputs = batch['input_ids'].to(args.device)\n",
        "        labels = batch['label'].to(args.device)\n",
        "\n",
        "        outputs = model(inputs)\n",
        "\n",
        "        preds.append(outputs.argmax(dim=1))\n",
        "        targets.append(labels)\n",
        "\n",
        "    preds = torch.cat(preds, dim=0)\n",
        "    targets = torch.cat(targets, dim=0)\n",
        "    acc = (targets == preds).sum() / preds.shape[0]\n",
        "    f1 = f1_score(preds.cpu(), targets.cpu(), average='macro')\n",
        "\n",
        "    metrics = {\n",
        "        \"Valid Accuracy\": acc.item(),\n",
        "        \"Valid F1\": f1.item()\n",
        "    }\n",
        "\n",
        "    print(metrics)"
      ],
      "metadata": {
        "id": "m5huUaEwov9u"
      },
      "execution_count": null,
      "outputs": []
    },
    {
      "cell_type": "code",
      "source": [
        "eval(args, valid_dataloader, model)"
      ],
      "metadata": {
        "id": "vpYFZdQ3LQJM"
      },
      "execution_count": null,
      "outputs": []
    },
    {
      "cell_type": "markdown",
      "source": [
        "## Save model"
      ],
      "metadata": {
        "id": "uuQqqEzbq6JM"
      }
    },
    {
      "cell_type": "code",
      "source": [
        "checkpoint = {\n",
        "    'epoch': args.num_epochs,\n",
        "    'model': model.state_dict(),\n",
        "    'optimizer': optimizer.state_dict(),\n",
        "    'lr_sched': scheduler.state_dict()}\n",
        "\n",
        "torch.save(checkpoint, '/content/drive/MyDrive/checkpoint_102 .pth')"
      ],
      "metadata": {
        "id": "B-vwxRdadx6e"
      },
      "execution_count": null,
      "outputs": []
    }
  ]
}